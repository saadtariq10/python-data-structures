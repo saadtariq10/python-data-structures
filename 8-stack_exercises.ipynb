{
  "nbformat": 4,
  "nbformat_minor": 0,
  "metadata": {
    "colab": {
      "provenance": []
    },
    "kernelspec": {
      "name": "python3",
      "display_name": "Python 3"
    },
    "language_info": {
      "name": "python"
    }
  },
  "cells": [
    {
      "cell_type": "code",
      "execution_count": 1,
      "metadata": {
        "id": "O4dwAioxjuN3"
      },
      "outputs": [],
      "source": [
        "# Write a function in python that can reverse a string using stack data structure. Use Stack class from the tutorial."
      ]
    },
    {
      "cell_type": "code",
      "source": [
        "class Stack:\n",
        "    def __init__(self):\n",
        "        self.items = []\n",
        "\n",
        "    def push(self, item):\n",
        "        self.items.append(item)\n",
        "\n",
        "    def pop(self):\n",
        "        return self.items.pop()\n",
        "\n",
        "    def is_empty(self):\n",
        "        return self.items == []\n",
        "\n",
        "    def peek(self):\n",
        "        if not self.is_empty():\n",
        "            return self.items[-1]\n",
        "\n",
        "    def get_stack(self):\n",
        "        return self.items\n",
        "\n",
        "    def size(self):\n",
        "        return len(self.items)\n",
        "\n"
      ],
      "metadata": {
        "id": "vpLikHsWj0Rd"
      },
      "execution_count": 4,
      "outputs": []
    },
    {
      "cell_type": "code",
      "source": [
        "def reverse_string(string):\n",
        "    stack = Stack()\n",
        "    for char in string:\n",
        "        stack.push(char)\n",
        "    reversed_string = \"\"\n",
        "    while not stack.is_empty():\n",
        "        reversed_string += stack.pop()\n",
        "    return reversed_string"
      ],
      "metadata": {
        "id": "I4za31VtkOb_"
      },
      "execution_count": 5,
      "outputs": []
    },
    {
      "cell_type": "code",
      "source": [
        "s= Stack()\n",
        "s.push(1)\n",
        "s.push(2)\n",
        "s.push(3)\n",
        "s.push(4)\n",
        "s.push(5)\n",
        "s.get_stack()"
      ],
      "metadata": {
        "colab": {
          "base_uri": "https://localhost:8080/"
        },
        "id": "MiQGn2rpkSyr",
        "outputId": "4d7ffa69-e074-4fa5-8cb9-ab5c5efa4d52"
      },
      "execution_count": 6,
      "outputs": [
        {
          "output_type": "execute_result",
          "data": {
            "text/plain": [
              "[1, 2, 3, 4, 5]"
            ]
          },
          "metadata": {},
          "execution_count": 6
        }
      ]
    },
    {
      "cell_type": "code",
      "source": [
        "s.pop()\n",
        "s.get_stack()"
      ],
      "metadata": {
        "colab": {
          "base_uri": "https://localhost:8080/"
        },
        "id": "VP_g6QjwkuPq",
        "outputId": "bf8de0b2-c049-43a4-9e29-1fb9462ecefa"
      },
      "execution_count": 7,
      "outputs": [
        {
          "output_type": "execute_result",
          "data": {
            "text/plain": [
              "[1, 2, 3, 4]"
            ]
          },
          "metadata": {},
          "execution_count": 7
        }
      ]
    },
    {
      "cell_type": "code",
      "source": [
        "s.size()"
      ],
      "metadata": {
        "colab": {
          "base_uri": "https://localhost:8080/"
        },
        "id": "NLmjVT0Ukxd-",
        "outputId": "609336ca-db10-472b-813e-b61db376aaeb"
      },
      "execution_count": 8,
      "outputs": [
        {
          "output_type": "execute_result",
          "data": {
            "text/plain": [
              "4"
            ]
          },
          "metadata": {},
          "execution_count": 8
        }
      ]
    },
    {
      "cell_type": "code",
      "source": [
        "s.peek()"
      ],
      "metadata": {
        "colab": {
          "base_uri": "https://localhost:8080/"
        },
        "id": "TzdZ-q9Yk5Db",
        "outputId": "b69bb7f3-6f46-4113-d77b-f052d166fcb2"
      },
      "execution_count": 9,
      "outputs": [
        {
          "output_type": "execute_result",
          "data": {
            "text/plain": [
              "4"
            ]
          },
          "metadata": {},
          "execution_count": 9
        }
      ]
    },
    {
      "cell_type": "code",
      "source": [
        "reverse_string(\"hello\")"
      ],
      "metadata": {
        "colab": {
          "base_uri": "https://localhost:8080/",
          "height": 35
        },
        "id": "gaLGcXchk-D3",
        "outputId": "88117406-303c-42e9-9975-a1cde964d29b"
      },
      "execution_count": 10,
      "outputs": [
        {
          "output_type": "execute_result",
          "data": {
            "text/plain": [
              "'olleh'"
            ],
            "application/vnd.google.colaboratory.intrinsic+json": {
              "type": "string"
            }
          },
          "metadata": {},
          "execution_count": 10
        }
      ]
    },
    {
      "cell_type": "code",
      "source": [],
      "metadata": {
        "id": "sRm9bIGSlB_y"
      },
      "execution_count": null,
      "outputs": []
    }
  ]
}